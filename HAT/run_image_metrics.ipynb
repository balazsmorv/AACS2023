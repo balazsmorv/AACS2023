{
 "cells": [
  {
   "cell_type": "code",
   "execution_count": 1,
   "metadata": {},
   "outputs": [
    {
     "name": "stdout",
     "output_type": "stream",
     "text": [
      "Could not load pyspng. Defaulting to pillow image backend.\n"
     ]
    }
   ],
   "source": [
    "import torch\n",
    "import os\n",
    "import math\n",
    "import numpy as np\n",
    "from PIL import Image\n",
    "import PIL\n",
    "import sys\n",
    "sys.path.insert(0, '/datadrive/AACS2023')\n",
    "from fdf256dataset import FDF256Dataset"
   ]
  },
  {
   "cell_type": "code",
   "execution_count": 3,
   "metadata": {},
   "outputs": [
    {
     "name": "stdout",
     "output_type": "stream",
     "text": [
      "Dataset loaded from: /datadrive/FDF/dataset/val. Number of samples:6531\n"
     ]
    }
   ],
   "source": [
    "dataset_path = '/datadrive/FDF/dataset/val'\n",
    "dataset = FDF256Dataset(dirpath=dataset_path, load_keypoints=True, transform=None, load_impath=True)"
   ]
  },
  {
   "cell_type": "code",
   "execution_count": 7,
   "metadata": {},
   "outputs": [],
   "source": [
    "pred_path = '/datadrive/AACS2023/HAT/HAT/results/HAT_SRx4_ImageNet-LR/visualization/custom/'"
   ]
  },
  {
   "cell_type": "code",
   "execution_count": 8,
   "metadata": {},
   "outputs": [
    {
     "name": "stderr",
     "output_type": "stream",
     "text": [
      "2023-04-27 15:50:54.229697: I tensorflow/core/platform/cpu_feature_guard.cc:182] This TensorFlow binary is optimized to use available CPU instructions in performance-critical operations.\n",
      "To enable the following instructions: AVX2 FMA, in other operations, rebuild TensorFlow with the appropriate compiler flags.\n",
      "2023-04-27 15:50:58.332239: W tensorflow/compiler/tf2tensorrt/utils/py_utils.cc:38] TF-TRT Warning: Could not find TensorRT\n",
      "  0%|          | 0/6531 [00:00<?, ?it/s]2023-04-27 15:51:15.628523: I tensorflow/core/common_runtime/gpu/gpu_device.cc:1635] Created device /job:localhost/replica:0/task:0/device:GPU:0 with 14087 MB memory:  -> device: 0, name: Tesla V100-PCIE-16GB, pci bus id: 0001:00:00.0, compute capability: 7.0\n",
      "2023-04-27 15:51:15.633619: I tensorflow/core/common_runtime/gpu/gpu_device.cc:1635] Created device /job:localhost/replica:0/task:0/device:GPU:1 with 14087 MB memory:  -> device: 1, name: Tesla V100-PCIE-16GB, pci bus id: 0002:00:00.0, compute capability: 7.0\n",
      "2023-04-27 15:51:15.634190: I tensorflow/core/common_runtime/gpu/gpu_device.cc:1635] Created device /job:localhost/replica:0/task:0/device:GPU:2 with 14087 MB memory:  -> device: 2, name: Tesla V100-PCIE-16GB, pci bus id: 0003:00:00.0, compute capability: 7.0\n",
      "2023-04-27 15:51:15.634731: I tensorflow/core/common_runtime/gpu/gpu_device.cc:1635] Created device /job:localhost/replica:0/task:0/device:GPU:3 with 14087 MB memory:  -> device: 3, name: Tesla V100-PCIE-16GB, pci bus id: 0004:00:00.0, compute capability: 7.0\n",
      "100%|██████████| 6531/6531 [03:19<00:00, 32.81it/s]"
     ]
    },
    {
     "name": "stdout",
     "output_type": "stream",
     "text": [
      "Average PSNR = 34.084320068359375\n",
      "Average SSIM = 0.9206088639405688\n"
     ]
    },
    {
     "name": "stderr",
     "output_type": "stream",
     "text": [
      "\n"
     ]
    }
   ],
   "source": [
    "from tqdm import tqdm\n",
    "from skimage.metrics import structural_similarity as ssim\n",
    "import tensorflow as tf\n",
    "\n",
    "\n",
    "total_psnr = 0.0\n",
    "total_ssim = 0.0\n",
    "\n",
    "for i in tqdm(range(len(dataset))):\n",
    "    original_img = dataset[i][\"img\"]\n",
    "    img_name: str = str(dataset[i]['impath']).split('/')[-1]\n",
    "    img_idx = img_name.split('.')[0]\n",
    "    \n",
    "    pred_img_path = os.path.join(pred_path, f'{img_idx}_HAT_SRx4_ImageNet-LR.png')\n",
    "    pred_img = Image.open(pred_img_path)\n",
    "    pred_img = np.asarray(pred_img)\n",
    "    \n",
    "    im_psnr: float = tf.image.psnr(pred_img, original_img, max_val=255)\n",
    "    im_ssim: float = ssim(im1=original_img, im2=pred_img, data_range=pred_img.max() - pred_img.min(), channel_axis=2)\n",
    "\n",
    "    total_psnr += im_psnr\n",
    "    total_ssim += im_ssim\n",
    "    \n",
    "avg_psnr = total_psnr / len(dataset)\n",
    "avg_ssim = total_ssim / len(dataset)\n",
    "\n",
    "print(f'Average PSNR = {avg_psnr}')\n",
    "print(f'Average SSIM = {avg_ssim}')\n"
   ]
  }
 ],
 "metadata": {
  "kernelspec": {
   "display_name": "facediffusion",
   "language": "python",
   "name": "python3"
  },
  "language_info": {
   "codemirror_mode": {
    "name": "ipython",
    "version": 3
   },
   "file_extension": ".py",
   "mimetype": "text/x-python",
   "name": "python",
   "nbconvert_exporter": "python",
   "pygments_lexer": "ipython3",
   "version": "3.9.16"
  },
  "orig_nbformat": 4
 },
 "nbformat": 4,
 "nbformat_minor": 2
}
