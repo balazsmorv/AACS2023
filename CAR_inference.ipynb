{
 "cells": [
  {
   "attachments": {},
   "cell_type": "markdown",
   "metadata": {},
   "source": [
    "# Notebook to run the experiment with the CAR network"
   ]
  },
  {
   "cell_type": "code",
   "execution_count": 1,
   "metadata": {},
   "outputs": [],
   "source": [
    "# 256x256 -> 64x64 conversion\n",
    "import os\n",
    "\n",
    "dataset_path = '/datadrive/FDF/dataset/val/images/'\n",
    "target_path = '/datadrive/FDF/dataset/val/small_images/'"
   ]
  },
  {
   "cell_type": "code",
   "execution_count": 2,
   "metadata": {},
   "outputs": [
    {
     "name": "stderr",
     "output_type": "stream",
     "text": [
      "100%|██████████| 6531/6531 [00:48<00:00, 134.70it/s]"
     ]
    },
    {
     "name": "stdout",
     "output_type": "stream",
     "text": [
      "Comment out for the creation of the small resolution images\n"
     ]
    },
    {
     "name": "stderr",
     "output_type": "stream",
     "text": [
      "\n"
     ]
    }
   ],
   "source": [
    "from PIL import Image\n",
    "from tqdm import tqdm\n",
    "\n",
    "\n",
    "for image_file in tqdm(os.listdir(dataset_path)):\n",
    "    try:\n",
    "        image = Image.open(os.path.join(dataset_path, image_file))\n",
    "        new_image = image.resize((64, 64))\n",
    "        new_image.save(os.path.join(target_path, image_file))\n",
    "    except Exception as e:\n",
    "        print(e)\n",
    "\n",
    "print('Comment out for the creation of the small resolution images')   "
   ]
  },
  {
   "cell_type": "code",
   "execution_count": 9,
   "metadata": {},
   "outputs": [
    {
     "name": "stderr",
     "output_type": "stream",
     "text": [
      "100%|██████████| 6531/6531 [24:49<00:00,  4.39it/s]\n"
     ]
    },
    {
     "name": "stdout",
     "output_type": "stream",
     "text": [
      "Mean PSNR: 37.32\n",
      "Mean SSIM: 0.9449\n"
     ]
    },
    {
     "data": {
      "text/plain": [
       "0"
      ]
     },
     "execution_count": 9,
     "metadata": {},
     "output_type": "execute_result"
    }
   ],
   "source": [
    "path_to_output = '/datadrive/AACS2023/CAR_/results'\n",
    "run_script_path = '/datadrive/AACS2023/CAR_/CAR/run.py'\n",
    "model_path = '/datadrive/AACS2023/CAR_/CAR/models'\n",
    "\n",
    "os.system(f'python3 {run_script_path} --scale 4 --img_dir {dataset_path} --model_dir {model_path} --output_dir {path_to_output}')"
   ]
  }
 ],
 "metadata": {
  "kernelspec": {
   "display_name": "car",
   "language": "python",
   "name": "python3"
  },
  "language_info": {
   "codemirror_mode": {
    "name": "ipython",
    "version": 3
   },
   "file_extension": ".py",
   "mimetype": "text/x-python",
   "name": "python",
   "nbconvert_exporter": "python",
   "pygments_lexer": "ipython3",
   "version": "3.9.16"
  },
  "orig_nbformat": 4
 },
 "nbformat": 4,
 "nbformat_minor": 2
}
